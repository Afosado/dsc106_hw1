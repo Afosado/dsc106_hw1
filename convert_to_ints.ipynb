{
 "cells": [
  {
   "cell_type": "code",
   "execution_count": 1,
   "metadata": {},
   "outputs": [],
   "source": [
    "import pandas as pd"
   ]
  },
  {
   "cell_type": "code",
   "execution_count": 2,
   "metadata": {},
   "outputs": [],
   "source": [
    "df = pd.read_csv('ucsd_cds_admission_data_2005_to_2018.csv')"
   ]
  },
  {
   "cell_type": "code",
   "execution_count": 3,
   "metadata": {},
   "outputs": [
    {
     "data": {
      "text/html": [
       "<div>\n",
       "<style scoped>\n",
       "    .dataframe tbody tr th:only-of-type {\n",
       "        vertical-align: middle;\n",
       "    }\n",
       "\n",
       "    .dataframe tbody tr th {\n",
       "        vertical-align: top;\n",
       "    }\n",
       "\n",
       "    .dataframe thead th {\n",
       "        text-align: right;\n",
       "    }\n",
       "</style>\n",
       "<table border=\"1\" class=\"dataframe\">\n",
       "  <thead>\n",
       "    <tr style=\"text-align: right;\">\n",
       "      <th></th>\n",
       "      <th>year</th>\n",
       "      <th>fulltime_men_applied</th>\n",
       "      <th>fulltime_women_applied</th>\n",
       "      <th>fulltime_men_admitted</th>\n",
       "      <th>fulltime_women_admitted</th>\n",
       "      <th>fulltime_men_enrolled</th>\n",
       "      <th>fulltime_women_enrolled</th>\n",
       "    </tr>\n",
       "  </thead>\n",
       "  <tbody>\n",
       "    <tr>\n",
       "      <th>0</th>\n",
       "      <td>2018</td>\n",
       "      <td>45,636</td>\n",
       "      <td>52,265</td>\n",
       "      <td>13,781</td>\n",
       "      <td>15,821</td>\n",
       "      <td>3,220</td>\n",
       "      <td>3,484</td>\n",
       "    </tr>\n",
       "    <tr>\n",
       "      <th>1</th>\n",
       "      <td>2017</td>\n",
       "      <td>41,583</td>\n",
       "      <td>46,845</td>\n",
       "      <td>13,981</td>\n",
       "      <td>16,231</td>\n",
       "      <td>2,725</td>\n",
       "      <td>2,974</td>\n",
       "    </tr>\n",
       "    <tr>\n",
       "      <th>2</th>\n",
       "      <td>2016</td>\n",
       "      <td>39,779</td>\n",
       "      <td>44,430</td>\n",
       "      <td>14,103</td>\n",
       "      <td>16,170</td>\n",
       "      <td>2,669</td>\n",
       "      <td>3,077</td>\n",
       "    </tr>\n",
       "    <tr>\n",
       "      <th>3</th>\n",
       "      <td>2015</td>\n",
       "      <td>37,009</td>\n",
       "      <td>41,047</td>\n",
       "      <td>12,748</td>\n",
       "      <td>13,761</td>\n",
       "      <td>2,711</td>\n",
       "      <td>2,581</td>\n",
       "    </tr>\n",
       "    <tr>\n",
       "      <th>4</th>\n",
       "      <td>2014</td>\n",
       "      <td>34,618</td>\n",
       "      <td>38,822</td>\n",
       "      <td>11,758</td>\n",
       "      <td>12,837</td>\n",
       "      <td>2,538</td>\n",
       "      <td>2,383</td>\n",
       "    </tr>\n",
       "  </tbody>\n",
       "</table>\n",
       "</div>"
      ],
      "text/plain": [
       "   year fulltime_men_applied fulltime_women_applied fulltime_men_admitted  \\\n",
       "0  2018               45,636                 52,265                13,781   \n",
       "1  2017               41,583                 46,845                13,981   \n",
       "2  2016               39,779                 44,430                14,103   \n",
       "3  2015               37,009                 41,047                12,748   \n",
       "4  2014               34,618                 38,822                11,758   \n",
       "\n",
       "  fulltime_women_admitted fulltime_men_enrolled fulltime_women_enrolled  \n",
       "0                  15,821                 3,220                   3,484  \n",
       "1                  16,231                 2,725                   2,974  \n",
       "2                  16,170                 2,669                   3,077  \n",
       "3                  13,761                 2,711                   2,581  \n",
       "4                  12,837                 2,538                   2,383  "
      ]
     },
     "execution_count": 3,
     "metadata": {},
     "output_type": "execute_result"
    }
   ],
   "source": [
    "df.head()"
   ]
  },
  {
   "cell_type": "code",
   "execution_count": 8,
   "metadata": {},
   "outputs": [],
   "source": [
    "columns = df.columns[1:]"
   ]
  },
  {
   "cell_type": "code",
   "execution_count": 12,
   "metadata": {},
   "outputs": [],
   "source": [
    "def remove_comma(x):\n",
    "    return int(x.replace(',', ''))"
   ]
  },
  {
   "cell_type": "code",
   "execution_count": 16,
   "metadata": {},
   "outputs": [],
   "source": [
    "df[columns] = df[columns].applymap(remove_comma)"
   ]
  },
  {
   "cell_type": "code",
   "execution_count": 17,
   "metadata": {},
   "outputs": [
    {
     "data": {
      "text/html": [
       "<div>\n",
       "<style scoped>\n",
       "    .dataframe tbody tr th:only-of-type {\n",
       "        vertical-align: middle;\n",
       "    }\n",
       "\n",
       "    .dataframe tbody tr th {\n",
       "        vertical-align: top;\n",
       "    }\n",
       "\n",
       "    .dataframe thead th {\n",
       "        text-align: right;\n",
       "    }\n",
       "</style>\n",
       "<table border=\"1\" class=\"dataframe\">\n",
       "  <thead>\n",
       "    <tr style=\"text-align: right;\">\n",
       "      <th></th>\n",
       "      <th>year</th>\n",
       "      <th>fulltime_men_applied</th>\n",
       "      <th>fulltime_women_applied</th>\n",
       "      <th>fulltime_men_admitted</th>\n",
       "      <th>fulltime_women_admitted</th>\n",
       "      <th>fulltime_men_enrolled</th>\n",
       "      <th>fulltime_women_enrolled</th>\n",
       "    </tr>\n",
       "  </thead>\n",
       "  <tbody>\n",
       "    <tr>\n",
       "      <th>0</th>\n",
       "      <td>2018</td>\n",
       "      <td>45636</td>\n",
       "      <td>52265</td>\n",
       "      <td>13781</td>\n",
       "      <td>15821</td>\n",
       "      <td>3220</td>\n",
       "      <td>3484</td>\n",
       "    </tr>\n",
       "    <tr>\n",
       "      <th>1</th>\n",
       "      <td>2017</td>\n",
       "      <td>41583</td>\n",
       "      <td>46845</td>\n",
       "      <td>13981</td>\n",
       "      <td>16231</td>\n",
       "      <td>2725</td>\n",
       "      <td>2974</td>\n",
       "    </tr>\n",
       "    <tr>\n",
       "      <th>2</th>\n",
       "      <td>2016</td>\n",
       "      <td>39779</td>\n",
       "      <td>44430</td>\n",
       "      <td>14103</td>\n",
       "      <td>16170</td>\n",
       "      <td>2669</td>\n",
       "      <td>3077</td>\n",
       "    </tr>\n",
       "    <tr>\n",
       "      <th>3</th>\n",
       "      <td>2015</td>\n",
       "      <td>37009</td>\n",
       "      <td>41047</td>\n",
       "      <td>12748</td>\n",
       "      <td>13761</td>\n",
       "      <td>2711</td>\n",
       "      <td>2581</td>\n",
       "    </tr>\n",
       "    <tr>\n",
       "      <th>4</th>\n",
       "      <td>2014</td>\n",
       "      <td>34618</td>\n",
       "      <td>38822</td>\n",
       "      <td>11758</td>\n",
       "      <td>12837</td>\n",
       "      <td>2538</td>\n",
       "      <td>2383</td>\n",
       "    </tr>\n",
       "  </tbody>\n",
       "</table>\n",
       "</div>"
      ],
      "text/plain": [
       "   year  fulltime_men_applied  fulltime_women_applied  fulltime_men_admitted  \\\n",
       "0  2018                 45636                   52265                  13781   \n",
       "1  2017                 41583                   46845                  13981   \n",
       "2  2016                 39779                   44430                  14103   \n",
       "3  2015                 37009                   41047                  12748   \n",
       "4  2014                 34618                   38822                  11758   \n",
       "\n",
       "   fulltime_women_admitted  fulltime_men_enrolled  fulltime_women_enrolled  \n",
       "0                    15821                   3220                     3484  \n",
       "1                    16231                   2725                     2974  \n",
       "2                    16170                   2669                     3077  \n",
       "3                    13761                   2711                     2581  \n",
       "4                    12837                   2538                     2383  "
      ]
     },
     "execution_count": 17,
     "metadata": {},
     "output_type": "execute_result"
    }
   ],
   "source": [
    "df.head()"
   ]
  },
  {
   "cell_type": "code",
   "execution_count": 18,
   "metadata": {},
   "outputs": [],
   "source": [
    "df.to_csv('ucsd.csv')"
   ]
  },
  {
   "cell_type": "code",
   "execution_count": null,
   "metadata": {},
   "outputs": [],
   "source": []
  }
 ],
 "metadata": {
  "kernelspec": {
   "display_name": "Python 3",
   "language": "python",
   "name": "python3"
  },
  "language_info": {
   "codemirror_mode": {
    "name": "ipython",
    "version": 3
   },
   "file_extension": ".py",
   "mimetype": "text/x-python",
   "name": "python",
   "nbconvert_exporter": "python",
   "pygments_lexer": "ipython3",
   "version": "3.6.3"
  }
 },
 "nbformat": 4,
 "nbformat_minor": 2
}
